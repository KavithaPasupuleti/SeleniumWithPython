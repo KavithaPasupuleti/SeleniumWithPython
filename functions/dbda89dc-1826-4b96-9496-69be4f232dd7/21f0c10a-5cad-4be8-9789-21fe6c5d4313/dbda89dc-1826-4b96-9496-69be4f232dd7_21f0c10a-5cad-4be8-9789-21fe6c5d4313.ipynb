{
  "cells": [
    {
      "cell_type": "code",
      "metadata": {},
      "source": [
        "from datetime import datetime\n",
        "import json\n",
        "from xpms_file_storage.file_handler import XpmsResourceFactory, XpmsResource, LocalResource\n",
        "from xpms_storage.utils import get_env\n",
        "\n",
        "def hma_move_feedback_to_completed(config=None, **objects):\n",
        "    retries = 3\n",
        "    counter = 1\n",
        "    while counter < retries:\n",
        "        try:\n",
        "            NAMESPACE = get_env(\"NAMESPACE\", \"claims-audit\", False)\n",
        "            DOMAIN_NAME = get_env(\"DOMAIN_NAME\", \"enterprise.xpms.ai\", False)\n",
        "            AMAZON_AWS_BUCKET = get_env(\"AMAZON_AWS_BUCKET\", \"xpms-ca-test\", False)\n",
        "\n",
        "            file_path = config[\"context\"][\"source_file_path\"]\n",
        "            # file_path = \"minio://claims-audit/aclaimsauditpoc/highmark/highmark_inputs_backup/1601454901_hma.csv\"\n",
        "            file_name = file_path.split(\"/\")[-1]\n",
        "            if objects[\"status\"].lower() == \"completed\":\n",
        "                xrm = XpmsResource()\n",
        "                mr = xrm.get(urn=file_path)\n",
        "                print(mr)\n",
        "                backup_path = \"minio://{0}/claimsaudit-ingestfiles/archive/feedback-completed\".format(AMAZON_AWS_BUCKET)\n",
        "                backup_filename = str(int(datetime.now().timestamp())) + '_' + file_name\n",
        "                backup_rm = XpmsResource()\n",
        "                backup_mr = backup_rm.get(urn=backup_path + '/' + backup_filename)\n",
        "                if mr.exists():\n",
        "                    mr.copy(backup_mr)\n",
        "                    mr.delete()\n",
        "                    return {\n",
        "                        \"status\": \"moved\"\n",
        "                    }\n",
        "                else:\n",
        "                    return {\n",
        "                        \"status\": \"file not exist\"\n",
        "                    }\n",
        "            else:\n",
        "                return {\n",
        "                    \"status\": \"not moved\"\n",
        "                }\n",
        "        except Exception as e:\n",
        "            counter += 1"
      ],
      "outputs": [],
      "execution_count": null
    }
  ],
  "metadata": {
    "anaconda-cloud": {},
    "kernelspec": {
      "display_name": "Python 3",
      "language": "python",
      "name": "python3"
    },
    "language_info": {
      "codemirror_mode": {
        "name": "ipython",
        "version": 3
      },
      "file_extension": ".py",
      "mimetype": "text/x-python",
      "name": "python",
      "nbconvert_exporter": "python",
      "pygments_lexer": "ipython3",
      "version": "3.6.1"
    }
  },
  "nbformat": 4,
  "nbformat_minor": 1
}