{
  "cells": [
    {
      "cell_type": "code",
      "metadata": {},
      "source": [
        "from datetime import datetime\n",
        "import json\n",
        "from xpms_file_storage.file_handler import XpmsResource, LocalResource\n",
        "from xpms_storage.utils import get_env\n",
        "from xpms_storage.db_handler import DBProvider\n",
        "\n",
        "\n",
        "def hma_move_to_completed(config=None, **objects):\n",
        "    retries = 3\n",
        "    counter = 1\n",
        "    while counter < retries:\n",
        "        try:\n",
        "            NAMESPACE = get_env(\"NAMESPACE\", \"claims-audit\", False)\n",
        "            DOMAIN_NAME = get_env(\"DOMAIN_NAME\", \"enterprise.xpms.ai\", False)\n",
        "            AMAZON_AWS_BUCKET = get_env(\"AMAZON_AWS_BUCKET\", \"xpms-ca-test\", False)\n",
        "            ENV_DATABASE = get_env('DATABASE_PARAPHRASE', None, True)\n",
        "            file_path = config[\"context\"][\"source_file_path\"]\n",
        "            # file_path = \"minio://claims-audit/aclaimsauditpoc/highmark/highmark_inputs_backup/1601454901_hma.csv\"\n",
        "            file_name = file_path.split(\"/\")[-1]\n",
        "            if objects[\"status\"].lower() == \"completed\":\n",
        "                xrm = XpmsResource()\n",
        "                mr = xrm.get(urn=file_path)\n",
        "                print(mr)\n",
        "                backup_path = \"minio://{0}/claimsaudit-ingestfiles/archive/split-input-csv-inprogress_batches_completed\".format(\n",
        "                    AMAZON_AWS_BUCKET)\n",
        "                backup_filename = str(int(datetime.now().timestamp())) + '_' + file_name\n",
        "                backup_rm = XpmsResource()\n",
        "                backup_mr = backup_rm.get(urn=backup_path + '/' + backup_filename)\n",
        "                if mr.exists():\n",
        "                    mr.copy(backup_mr)\n",
        "                    mr.delete()\n",
        "                    filter_ob = {\"file_name\": file_name}\n",
        "                    update_ob = {\n",
        "                        \"status\": 'completed',\n",
        "                    }\n",
        "                    try:\n",
        "                        db = DBProvider.get_instance(db_name=ENV_DATABASE)\n",
        "                        s = db.update(table='batch_metadata_chunk', update_obj=update_ob, filter_obj=filter_ob)\n",
        "                    except Exception as e:\n",
        "                        return 'e is ' + str(e)\n",
        "                    return {\n",
        "                        \"status\": \"moved\"\n",
        "                    }\n",
        "                else:\n",
        "                    return {\n",
        "                        \"status\": \"file not exist\"\n",
        "                    }\n",
        "            else:\n",
        "                return {\n",
        "                    \"status\": \"not moved\"\n",
        "                }\n",
        "        except Exception as e:\n",
        "            counter += 1"
      ],
      "outputs": [],
      "execution_count": null
    }
  ],
  "metadata": {
    "anaconda-cloud": {},
    "kernelspec": {
      "display_name": "Python 3",
      "language": "python",
      "name": "python3"
    },
    "language_info": {
      "codemirror_mode": {
        "name": "ipython",
        "version": 3
      },
      "file_extension": ".py",
      "mimetype": "text/x-python",
      "name": "python",
      "nbconvert_exporter": "python",
      "pygments_lexer": "ipython3",
      "version": "3.6.1"
    }
  },
  "nbformat": 4,
  "nbformat_minor": 1
}