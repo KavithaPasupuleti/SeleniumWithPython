{
  "cells": [
    {
      "cell_type": "code",
      "metadata": {},
      "source": [
        "from datetime import datetime\n",
        "import numpy as np\n",
        "from xpms_storage.db_handler import DBProvider\n",
        "import time\n",
        "import requests\n",
        "import json\n",
        "from xpms_storage.utils import get_env\n",
        "\n",
        "\n",
        "def hma_feedback_notification_inprogress(config=None, **objects):\n",
        "    retries = 3\n",
        "    counter = 1\n",
        "    while counter < retries:\n",
        "        try:\n",
        "            NAMESPACE = get_env(\"NAMESPACE\", \"claims-audit\", False)\n",
        "            DOMAIN_NAME = get_env(\"DOMAIN_NAME\", \"enterprise.xpms.ai\", False)\n",
        "            ENV_DATABASE = get_env('DATABASE_PARAPHRASE', None, True)\n",
        "            BE_URL = get_env('CLAIMS_AUDIT_APIS_URL', None, True)\n",
        "            AMAZON_AWS_BUCKET = get_env(\"AMAZON_AWS_BUCKET\", \"xpms-ca-test\", False)\n",
        "\n",
        "            file_name = objects[\"document\"][0][\"metadata\"][\"properties\"][\"filename\"]\n",
        "            db = DBProvider.get_instance(db_name=ENV_DATABASE)\n",
        "            notifications = {\n",
        "                \"group\": \"feedback_status\",\n",
        "                \"message\": {\n",
        "                    \"body\": f'Feedback for {file_name} is started.',\n",
        "                    \"status\": \"info\",\n",
        "                    \"title\": file_name,\n",
        "                    \"icon\": \"started\"\n",
        "                },\n",
        "                \"metadata\": {\n",
        "                    \"file_name\": file_name,\n",
        "                    \"current_status\": \"in-progress\",\n",
        "                    \"previous_status\": \"started\"\n",
        "                },\n",
        "                \"created_timestamp\": int(time.time())\n",
        "            }\n",
        "\n",
        "            s = db.insert(table='notifications', rows=[notifications])\n",
        "            if s:\n",
        "                url = f'https://{BE_URL}/send_notification'\n",
        "                headers = {\n",
        "                    'Content-Type': 'application/json'\n",
        "                }\n",
        "\n",
        "                resp = requests.request(\"POST\", url, headers=headers, data=json.dumps(notifications, default=str))\n",
        "\n",
        "            return objects\n",
        "        except Exception as e:\n",
        "            counter += 1"
      ],
      "outputs": [],
      "execution_count": null
    }
  ],
  "metadata": {
    "anaconda-cloud": {},
    "kernelspec": {
      "display_name": "Python 3",
      "language": "python",
      "name": "python3"
    },
    "language_info": {
      "codemirror_mode": {
        "name": "ipython",
        "version": 3
      },
      "file_extension": ".py",
      "mimetype": "text/x-python",
      "name": "python",
      "nbconvert_exporter": "python",
      "pygments_lexer": "ipython3",
      "version": "3.6.1"
    }
  },
  "nbformat": 4,
  "nbformat_minor": 1
}